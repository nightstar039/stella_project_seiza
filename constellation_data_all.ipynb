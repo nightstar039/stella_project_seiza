{
  "nbformat": 4,
  "nbformat_minor": 0,
  "metadata": {
    "colab": {
      "provenance": [],
      "authorship_tag": "ABX9TyPQ2PouwIQjQUiJLYQBqz7x",
      "include_colab_link": true
    },
    "kernelspec": {
      "name": "python3",
      "display_name": "Python 3"
    },
    "language_info": {
      "name": "python"
    }
  },
  "cells": [
    {
      "cell_type": "markdown",
      "metadata": {
        "id": "view-in-github",
        "colab_type": "text"
      },
      "source": [
        "<a href=\"https://colab.research.google.com/github/nightstar039/stella_project_seiza/blob/main/constellation_data_all.ipynb\" target=\"_parent\"><img src=\"https://colab.research.google.com/assets/colab-badge.svg\" alt=\"Open In Colab\"/></a>"
      ]
    },
    {
      "cell_type": "code",
      "execution_count": 1,
      "metadata": {
        "id": "7XWh_56oIbxs"
      },
      "outputs": [],
      "source": [
        "import pandas as pd"
      ]
    },
    {
      "cell_type": "code",
      "source": [
        "#データフレームの読み込み\n",
        "constellation_line_hip_df = pd.read_csv('constellation_line_hip.csv')  # 星座線データ\n",
        "constellation_name_df = pd.read_csv('constellation_name.csv')  # 星座の名前データ\n",
        "star_name_position_hip_df = pd.read_csv('star_name_position_hip.csv')  # 星の位置データ"
      ],
      "metadata": {
        "id": "N03DOgHcI2nd"
      },
      "execution_count": 3,
      "outputs": []
    },
    {
      "cell_type": "code",
      "source": [
        "#カラム名を統一する\n",
        "constellation_line_hip_df.rename(columns={'1': 'HIP_start', '2': 'HIP_end'}, inplace=True)\n",
        "star_name_position_hip_df.rename(columns={'HIP': 'HIP', 'right ascension_lon': 'right ascension_lon', 'declination_lat': 'declination_lat', 'apparent magnitude': 'apparent magnitude'}, inplace=True)"
      ],
      "metadata": {
        "id": "VmXFRXk5J9H9"
      },
      "execution_count": 7,
      "outputs": []
    },
    {
      "cell_type": "code",
      "source": [
        "#星座の略語を星座名にマッピング\n",
        "abbreviation_to_name = dict(zip(constellation_name_df['abbreviation'], constellation_name_df['constellation En']))\n",
        "constellation_line_hip_df['constellation_name'] = constellation_line_hip_df['Abbreviation'].map(abbreviation_to_name)"
      ],
      "metadata": {
        "id": "zdZKZCoWLpF1"
      },
      "execution_count": 8,
      "outputs": []
    },
    {
      "cell_type": "code",
      "source": [
        "#データを統合する\n",
        "merged_df = pd.merge(constellation_line_hip_df, star_name_position_hip_df, left_on='HIP_start', right_on='HIP', how='left', suffixes=('_line', '_start'))\n",
        "merged_df.rename(columns={'right_ascension': 'ra_start', 'declination_lat': 'dec_start', 'apparent_magnitude': 'mag_start'}, inplace=True)\n",
        "\n",
        "final_merged_df = pd.merge(merged_df, star_name_position_hip_df, left_on='HIP_end', right_on='HIP', how='left', suffixes=('_temp', '_end'))\n",
        "final_merged_df.rename(columns={'right_ascension_lon': 'ra_end', 'declination_lat': 'dec_end', 'apparent_magnitude': 'mag_end'}, inplace=True)"
      ],
      "metadata": {
        "id": "VtBhYCQMMhMt"
      },
      "execution_count": 15,
      "outputs": []
    },
    {
      "cell_type": "markdown",
      "source": [],
      "metadata": {
        "id": "XA15f2piK5pH"
      }
    },
    {
      "cell_type": "code",
      "source": [
        "#最後に作ったデータフレームをJSONに変換して保存\n",
        "final_merged_df.to_json('constellation_data.json', orient='records', indent=4)\n",
        "print(\"constellation_data.json が生成されました。\")"
      ],
      "metadata": {
        "colab": {
          "base_uri": "https://localhost:8080/"
        },
        "id": "6Dg7acf3OINJ",
        "outputId": "67fc45bc-1973-4810-c424-a962fa6ef59e"
      },
      "execution_count": 16,
      "outputs": [
        {
          "output_type": "stream",
          "name": "stdout",
          "text": [
            "constellation_data.json が生成されました。\n"
          ]
        }
      ]
    }
  ]
}